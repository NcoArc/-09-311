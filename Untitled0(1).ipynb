{
  "nbformat": 4,
  "nbformat_minor": 0,
  "metadata": {
    "colab": {
      "provenance": []
    },
    "kernelspec": {
      "name": "python3",
      "display_name": "Python 3"
    },
    "language_info": {
      "name": "python"
    }
  },
  "cells": [
    {
      "cell_type": "code",
      "execution_count": 2,
      "metadata": {
        "colab": {
          "base_uri": "https://localhost:8080/"
        },
        "id": "_MJTISeKsJwx",
        "outputId": "c320608d-f313-4910-8e2e-fe0bcc0cef8d"
      },
      "outputs": [
        {
          "output_type": "stream",
          "name": "stdout",
          "text": [
            "1\n",
            "0.0\n"
          ]
        }
      ],
      "source": [
        "b = float(input())\n",
        "z = float((9-(b+2)**2)/(b**2+10*b+25**3))\n",
        "print(z)"
      ]
    },
    {
      "cell_type": "code",
      "source": [
        "import math\n",
        "x = float (input())\n",
        "w = float(math.log(x**2,10)/(1+math.log(x)**2)+x/(math.log(x)-1))\n",
        "print(w)"
      ],
      "metadata": {
        "colab": {
          "base_uri": "https://localhost:8080/"
        },
        "id": "0yDSXLyXsLoW",
        "outputId": "42add95a-c375-423f-f5b7-388be740bd42"
      },
      "execution_count": 3,
      "outputs": [
        {
          "output_type": "stream",
          "name": "stdout",
          "text": [
            "1\n",
            "-1.0\n"
          ]
        }
      ]
    },
    {
      "cell_type": "code",
      "source": [
        "a = float(input())\n",
        "b = float(input())\n",
        "c = float(input())\n",
        "r = 1/a+1/b+1/c\n",
        "r = 1/r\n",
        "print (r)"
      ],
      "metadata": {
        "colab": {
          "base_uri": "https://localhost:8080/"
        },
        "id": "W7Vj98XAsQeW",
        "outputId": "5b6518a0-a747-4784-f19f-e5e199d213da"
      },
      "execution_count": 4,
      "outputs": [
        {
          "output_type": "stream",
          "name": "stdout",
          "text": [
            "1\n",
            "2\n",
            "1\n",
            "0.4\n"
          ]
        }
      ]
    },
    {
      "cell_type": "code",
      "source": [
        "a = int(input())\n",
        "b = a//100\n",
        "a-=b*100\n",
        "a*=10\n",
        "a+=b\n",
        "print(a)\n"
      ],
      "metadata": {
        "colab": {
          "base_uri": "https://localhost:8080/"
        },
        "id": "naWM2UEgsRQ3",
        "outputId": "0f92400e-a3ad-45e7-daf6-2f02addd928d"
      },
      "execution_count": 5,
      "outputs": [
        {
          "output_type": "stream",
          "name": "stdout",
          "text": [
            "134\n",
            "341\n"
          ]
        }
      ]
    },
    {
      "cell_type": "code",
      "source": [
        "a = int(input())\n",
        "if a>0:\n",
        "    print(\"Правильно\")\n",
        "else:\n",
        "    print(\"Incorrect\")"
      ],
      "metadata": {
        "colab": {
          "base_uri": "https://localhost:8080/"
        },
        "id": "4gIdUC3dsTFa",
        "outputId": "822e4279-8e6b-4633-a727-664e0d4e649d"
      },
      "execution_count": 1,
      "outputs": [
        {
          "output_type": "stream",
          "name": "stdout",
          "text": [
            "1\n",
            "Правильно\n"
          ]
        }
      ]
    }
  ]
}