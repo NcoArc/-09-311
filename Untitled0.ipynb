{
  "nbformat": 4,
  "nbformat_minor": 0,
  "metadata": {
    "colab": {
      "provenance": []
    },
    "kernelspec": {
      "name": "python3",
      "display_name": "Python 3"
    },
    "language_info": {
      "name": "python"
    }
  },
  "cells": [
    {
      "cell_type": "code",
      "execution_count": null,
      "metadata": {
        "id": "_MJTISeKsJwx"
      },
      "outputs": [],
      "source": [
        "b = float(input())\n",
        "z = float((9-(b+2)**2)/(b**2+10*b+25**3))\n",
        "print(z)"
      ]
    },
    {
      "cell_type": "code",
      "source": [
        "import math\n",
        "x = float (input())\n",
        "w = float(math.log(x**2,10)/(1+math.log(x)**2)+x/(math.log(x)-1))\n",
        "print(w)"
      ],
      "metadata": {
        "id": "0yDSXLyXsLoW"
      },
      "execution_count": null,
      "outputs": []
    },
    {
      "cell_type": "code",
      "source": [
        "a = float(input())\n",
        "b = float(input())\n",
        "c = float(input())\n",
        "r = 1/a+1/b+1/c\n",
        "r = 1/r\n",
        "print (r)"
      ],
      "metadata": {
        "id": "W7Vj98XAsQeW"
      },
      "execution_count": null,
      "outputs": []
    },
    {
      "cell_type": "code",
      "source": [
        "a = int(input())\n",
        "b = a//100\n",
        "a-=b*100\n",
        "a*=10\n",
        "a+=b\n",
        "print(a)\n"
      ],
      "metadata": {
        "id": "naWM2UEgsRQ3"
      },
      "execution_count": null,
      "outputs": []
    },
    {
      "cell_type": "code",
      "source": [
        "a = int(input())\n",
        "if a>0:\n",
        "    print(\"Правильно\")\n",
        "else:\n",
        "    print(\"Incorrect\")"
      ],
      "metadata": {
        "colab": {
          "base_uri": "https://localhost:8080/"
        },
        "id": "4gIdUC3dsTFa",
        "outputId": "822e4279-8e6b-4633-a727-664e0d4e649d"
      },
      "execution_count": 1,
      "outputs": [
        {
          "output_type": "stream",
          "name": "stdout",
          "text": [
            "1\n",
            "Правильно\n"
          ]
        }
      ]
    }
  ]
}